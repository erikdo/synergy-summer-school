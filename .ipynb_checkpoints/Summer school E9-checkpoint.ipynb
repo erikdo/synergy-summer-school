{
 "cells": [
  {
   "cell_type": "markdown",
   "metadata": {},
   "source": [
    "# SYNERGY SUMMER SCHOOL\n",
    "\n",
    "The notebook presents the optimization of a real-world problem (Welded Beam Design) with a multiobjective optimization algorithm (NSGA2)"
   ]
  },
  {
   "cell_type": "markdown",
   "metadata": {
    "collapsed": true
   },
   "source": [
    "# NSGA2 algorithm\n",
    "\n",
    "K. Deb, S. Agrawal, A. Pratab and T. Meyarivan, \"A fast and elitist multiobjective genetic algorithm: NSGA-II,\" \n",
    "IEEE Transactions on Evolutionary Computation, Vol. 6, No. 2, pp. 182-197, 2002. http://ieeexplore.ieee.org/document/996017/\n",
    "\n",
    "## Algorithm implementation: DEAP package\n",
    "\n",
    "- https://github.com/DEAP/deap\n",
    "- https://deap.readthedocs.io/en/master/\n",
    "- https://github.com/DEAP/deap/blob/master/examples/ga/nsga2.py"
   ]
  },
  {
   "cell_type": "code",
   "execution_count": 1,
   "metadata": {},
   "outputs": [
    {
     "data": {
      "text/html": [
       "\n",
       "        <iframe\n",
       "            width=\"100%\"\n",
       "            height=\"600\"\n",
       "            src=\"./NSGA-II.pdf\"\n",
       "            frameborder=\"0\"\n",
       "            allowfullscreen\n",
       "        ></iframe>\n",
       "        "
      ],
      "text/plain": [
       "<IPython.lib.display.IFrame at 0x2c7fe7129b0>"
      ]
     },
     "execution_count": 1,
     "metadata": {},
     "output_type": "execute_result"
    }
   ],
   "source": [
    "from IPython.display import IFrame\n",
    "IFrame(\"./NSGA-II.pdf\", width='100%', height=600)"
   ]
  },
  {
   "cell_type": "markdown",
   "metadata": {
    "collapsed": true
   },
   "source": [
    "# Test problem\n",
    "\n",
    "\n",
    "### Welded Beam Design Optimization\n",
    "\n",
    "A rigid member is welded onto a beam, with a load applied to the end of the member. \n",
    "The total cost of production is equal to the labor costs (a function of the weld dimensions) plus the cost \n",
    "of the weld and beam material. \n",
    "The problem has four real-parameter variables (b, h, l, t) and four non-linear constraints. \n",
    "One of the two objectives is to minimize the cost of production and \n",
    "other is to minimize the end deflection of the welded beam\n",
    "\n",
    "http://citeseerx.ist.psu.edu/viewdoc/download?doi=10.1.1.420.4706&rep=rep1&type=pdf"
   ]
  },
  {
   "cell_type": "code",
   "execution_count": 2,
   "metadata": {},
   "outputs": [
    {
     "data": {
      "text/html": [
       "<img src=\"./Schematic-view-of-a-welded-beam-design-optimization-problem.png\"/>"
      ],
      "text/plain": [
       "<IPython.core.display.Image object>"
      ]
     },
     "execution_count": 2,
     "metadata": {},
     "output_type": "execute_result"
    }
   ],
   "source": [
    "from IPython.display import Image\n",
    "Image(url= \"./Schematic-view-of-a-welded-beam-design-optimization-problem.png\")"
   ]
  },
  {
   "cell_type": "code",
   "execution_count": 3,
   "metadata": {},
   "outputs": [
    {
     "data": {
      "text/html": [
       "\n",
       "        <iframe\n",
       "            width=\"100%\"\n",
       "            height=\"600\"\n",
       "            src=\"./welded_beam_design.pdf\"\n",
       "            frameborder=\"0\"\n",
       "            allowfullscreen\n",
       "        ></iframe>\n",
       "        "
      ],
      "text/plain": [
       "<IPython.lib.display.IFrame at 0x2c7fe712898>"
      ]
     },
     "execution_count": 3,
     "metadata": {},
     "output_type": "execute_result"
    }
   ],
   "source": [
    "IFrame(\"./welded_beam_design.pdf\", width='100%', height=600)"
   ]
  },
  {
   "cell_type": "markdown",
   "metadata": {},
   "source": [
    "## Imports"
   ]
  },
  {
   "cell_type": "code",
   "execution_count": 6,
   "metadata": {
    "collapsed": true
   },
   "outputs": [],
   "source": [
    "%matplotlib notebook\n",
    "\n",
    "import array\n",
    "import random\n",
    "import json\n",
    "import numpy as np\n",
    "import matplotlib.pyplot as plt\n",
    "from math import sqrt, tanh\n",
    "import os\n",
    "import ctypes\n",
    "\n",
    "from deap import algorithms\n",
    "from deap import base\n",
    "from deap import benchmarks\n",
    "from deap.benchmarks.tools import diversity, convergence, hypervolume\n",
    "from deap import creator\n",
    "from deap import tools\n",
    "\n",
    "from ipywidgets import widgets, Layout, Button, Box\n",
    "\n",
    "import warnings\n",
    "warnings.simplefilter('ignore')"
   ]
  },
  {
   "cell_type": "markdown",
   "metadata": {},
   "source": [
    "## Evaluation function in Python"
   ]
  },
  {
   "cell_type": "code",
   "execution_count": 9,
   "metadata": {
    "collapsed": true
   },
   "outputs": [],
   "source": [
    "def welded_beam_design(x):\n",
    "    #problem encoding\n",
    "    b = 0.125 + 4.875 * x[0]\n",
    "    h = 0.125 + (b - 0.125) * x[1]   \n",
    "    l = 0.1 + 9.9 * x[2]\n",
    "    t = 0.1 + 9.9 * x[3]\n",
    "\n",
    "    # auxiliary terms\n",
    "    sigma = 504000.0 / (t*t * b)\n",
    "    tau1 = 6000.0 / (sqrt(2.0) * h * l)\n",
    "    tau2 = 6000.0 * (14.0 + 0.5*l) * sqrt(0.25 * (l*l + (h+t)*(h+t))) / (1.414 * h*l * (l*l/12.0 + 0.25*(h+t)*(h+t)))\n",
    "    tau = sqrt(tau1*tau1 + tau2*tau2 + l*tau1*tau2 / sqrt(0.25 * (l*l + (h+t)*(h+t))))\n",
    "    P_c = 64746.022 * (1.0 - 0.0282346*t) * t * b*b*b\n",
    "\n",
    "    # fitness functions\n",
    "    f1 = 1.10471 * h*h * l + 0.04811 * t * b * (14.0 + l)\n",
    "    f2 = 2.1952 / (t*t*t * b)\n",
    "\n",
    "    # scaling roughly to range [0, 1]\n",
    "    f1 /= 40.0\n",
    "    f2 /= 0.006\n",
    "\n",
    "    # constraints\n",
    "    g1 = tau - 13600.0\n",
    "    g2 = sigma - 30000.0\n",
    "    g3 = 6000.0 - P_c\n",
    "\n",
    "    # penalty for constraint violations\n",
    "    penalty = (max(1e-6 * g1, 0.0) + max(1e-6 * g2, 0.0) + max(1e-7 * g3, 0.0))\n",
    "    if penalty > 0.0:\n",
    "        penalty += 0.5\n",
    "    f1 += penalty\n",
    "    f2 += penalty\n",
    "     \n",
    "    # non-linearly rescaled fitness\n",
    "    return [tanh(f1),tanh(f2)]"
   ]
  },
  {
   "cell_type": "markdown",
   "metadata": {},
   "source": [
    "## Evaluation function in external C Windows/Linux library "
   ]
  },
  {
   "cell_type": "code",
   "execution_count": 10,
   "metadata": {
    "collapsed": true
   },
   "outputs": [],
   "source": [
    "if (os.name == 'nt'):\n",
    "    evaluation_functions_api = ctypes.CDLL('./EvaluationFunctions.dll')\n",
    "else:\n",
    "    evaluation_functions_api = ctypes.CDLL('./EvaluationFunctions.so')\n",
    "\n",
    "evaluation_functions_api.welded_beam_design.argtypes = [ctypes.POINTER(ctypes.c_double)]\n",
    "evaluation_functions_api.welded_beam_design.restype = ctypes.POINTER(ctypes.c_double)\n",
    "\n",
    "def welded_beam_design_api(x):\n",
    "    x_c = (ctypes.c_double*4)()\n",
    "    x_c[0]=ctypes.c_double(x[0])\n",
    "    x_c[1]=ctypes.c_double(x[1])\n",
    "    x_c[2]=ctypes.c_double(x[2])\n",
    "    x_c[3]=ctypes.c_double(x[3])\n",
    "    res_c = evaluation_functions_api.welded_beam_design(x_c)\n",
    "    return [res_c[0], res_c[1]]"
   ]
  },
  {
   "cell_type": "markdown",
   "metadata": {},
   "source": [
    "## Algorithm set up"
   ]
  },
  {
   "cell_type": "code",
   "execution_count": 11,
   "metadata": {
    "collapsed": true
   },
   "outputs": [],
   "source": [
    "use_external_library_for_evaluation = True\n",
    "\n",
    "if use_external_library_for_evaluation:\n",
    "    evaluation_function = welded_beam_design_api  \n",
    "else:\n",
    "    evaluation_function = welded_beam_design\n",
    "number_of_attributes = 4\n",
    "optimization_type = (-1.0, -1.0)  # -1..minimization, 1..maximization\n",
    "objective_name = [\"Production cost\", \"Welded beam deflection\"]\n",
    "objective_limit = [[0, 1], [0, 1]]\n",
    "attribute_bound_lower, attribute_bound_upper = 0.0, 1.0\n",
    "reference_point = [1.1, 1.1]\n",
    "hypervolume_upper_limit = reference_point[0] * reference_point[1]"
   ]
  },
  {
   "cell_type": "markdown",
   "metadata": {},
   "source": [
    "## Auxiliary functions"
   ]
  },
  {
   "cell_type": "code",
   "execution_count": 12,
   "metadata": {
    "collapsed": true
   },
   "outputs": [],
   "source": [
    "def initialization_uniform(bound_lower, bound_upper, size=None):\n",
    "    try:\n",
    "        return [random.uniform(a, b) for a, b in zip(bound_lower, bound_upper)]\n",
    "    except TypeError:\n",
    "        return [random.uniform(a, b) for a, b in zip([bound_lower] * size, [bound_upper] * size)]\n",
    "    \n",
    "    \n",
    "def fitness_data(population):\n",
    "    fitness_array_data = []\n",
    "    for individual in population:\n",
    "        fitness_array_data += [individual.fitness.values]    \n",
    "    fitness_array_data = np.array(fitness_array_data)\n",
    "    return fitness_array_data\n",
    "\n",
    "\n",
    "def plot_data(plot, data, marker):\n",
    "    plot.plot(data[:,0], data[:,1], marker) "
   ]
  },
  {
   "cell_type": "markdown",
   "metadata": {},
   "source": [
    "# NSGA2 algorithm"
   ]
  },
  {
   "cell_type": "code",
   "execution_count": 13,
   "metadata": {
    "collapsed": true
   },
   "outputs": [],
   "source": [
    "##################################\n",
    "# global definitions\n",
    "##################################\n",
    "\n",
    "# fitness: fitness weights define minimization or maximization\n",
    "creator.create(\"Fitness\", base.Fitness, weights=optimization_type)\n",
    "    \n",
    "# individual: consists of array of values\n",
    "creator.create(\"Individual\", array.array, typecode='d', fitness=creator.Fitness)\n",
    "\n",
    "# set of tools for performing algorithms steps\n",
    "toolbox = base.Toolbox()\n",
    "\n",
    "# define array of attributes (of individuals) with lower and upper bounds\n",
    "toolbox.register(\"attribute_float\", initialization_uniform, attribute_bound_lower, attribute_bound_upper, \n",
    "                     number_of_attributes)\n",
    "    \n",
    "# define individuals as arrays of attributes\n",
    "toolbox.register(\"individual\", tools.initIterate, creator.Individual, toolbox.attribute_float)\n",
    "    \n",
    "# define population as list of individuals\n",
    "toolbox.register(\"population\", tools.initRepeat, list, toolbox.individual)\n",
    "    \n",
    "# define evaluation function\n",
    "toolbox.register(\"evaluate\", evaluation_function)\n",
    "    \n",
    "# define binary crossover, take into account bounds of seach space\n",
    "# a high eta will produce children resembling to their parents, while a small eta will produce children much more different.\n",
    "toolbox.register(\"mate\", tools.cxSimulatedBinaryBounded, low=attribute_bound_lower, up=attribute_bound_upper, eta=20.0)\n",
    "\n",
    "# define polynomial mutation, take into account bounds of seach space\n",
    "# a high eta will produce children resembling to their parents, while a small eta will produce children much more different.\n",
    "toolbox.register(\"mutate\", tools.mutPolynomialBounded, low=attribute_bound_lower, up=attribute_bound_upper, eta=20.0,\n",
    "                indpb=0.1)\n",
    "\n",
    "# define selection, the one in NSGA2\n",
    "toolbox.register(\"select\", tools.selNSGA2)\n",
    "\n",
    "\n",
    "##################################\n",
    "# main function\n",
    "##################################\n",
    "\n",
    "def optimize(population_size, number_of_generations, crossover_probability, mutation_probability):\n",
    "    # set mutation probability\n",
    "    toolbox.mutate.indpb = mutation_probability\n",
    "    \n",
    "    # initialize population with pop_size individuals\n",
    "    population = toolbox.population(n=population_size)\n",
    "\n",
    "    # evaluate the individuals\n",
    "    fitnesses = toolbox.map(toolbox.evaluate, population)\n",
    "    for ind, fit in zip(population, fitnesses):\n",
    "        ind.fitness.values = fit\n",
    "        \n",
    "    # just to assign crowding distance\n",
    "    population = toolbox.select(population, len(population))\n",
    "\n",
    "    # save hypervolume\n",
    "    hypervolume_history = np.array([[0,0]])\n",
    "\n",
    "    # begin generational process\n",
    "    for generation in range(1, number_of_generations):\n",
    "        # tournament selection based on dominance (D) between two individuals, \n",
    "        # if the two individuals do not interdominate the selection is made based on crowding distance (CD)\n",
    "        offspring = tools.selTournamentDCD(population, len(population))\n",
    "        offspring = [toolbox.clone(ind) for ind in offspring]        \n",
    "   \n",
    "        # for every consecutive pair of offspring\n",
    "        for ind1, ind2 in zip(offspring[::2], offspring[1::2]):\n",
    "            # perform crossover\n",
    "            if random.random() <= crossover_probability:\n",
    "                toolbox.mate(ind1, ind2)\n",
    "\n",
    "            # perform mutation\n",
    "            toolbox.mutate(ind1)\n",
    "            toolbox.mutate(ind2)\n",
    "\n",
    "        # evaluate individuals\n",
    "        fitnesses = toolbox.map(toolbox.evaluate, offspring)\n",
    "        for ind, fit in zip(offspring, fitnesses):\n",
    "            ind.fitness.values = fit\n",
    "\n",
    "        # select next generation population\n",
    "        population = toolbox.select(population + offspring, population_size)        \n",
    "        \n",
    "        # find nondominated individuals\n",
    "        nondominated_individuals = tools.sortNondominated(population, len(population))[0]\n",
    "        \n",
    "        # plot data\n",
    "        hypervolume_subfigure.clear()\n",
    "        objective_space_subfigure.clear()\n",
    "        hypervolume_value = hypervolume(population, reference_point)\n",
    "        hypervolume_history = np.append(hypervolume_history,np.array([[generation, hypervolume_value]]), axis = 0) \n",
    "        plot_data(hypervolume_subfigure, hypervolume_history, '-')   \n",
    "        hypervolume_subfigure.set_title('Hypervolume through generations')\n",
    "        hypervolume_subfigure.set_xlabel('Generation')\n",
    "        hypervolume_subfigure.set_ylabel('Hypervolume')\n",
    "        hypervolume_subfigure.set_ybound([0, hypervolume_upper_limit])\n",
    "        \n",
    "        pop_fitness_data = fitness_data(nondominated_individuals)         \n",
    "        plot_data(objective_space_subfigure, pop_fitness_data, '.')  \n",
    "        objective_space_subfigure.set_title('Objective space')\n",
    "        objective_space_subfigure.set_xlabel(objective_name[0])\n",
    "        objective_space_subfigure.set_ylabel(objective_name[1])\n",
    "        objective_space_subfigure.set_xbound(objective_limit[0])\n",
    "        objective_space_subfigure.set_ybound(objective_limit[1])\n",
    "        main_figure.canvas.draw() \n",
    "    \n",
    "    return hypervolume_value"
   ]
  },
  {
   "cell_type": "markdown",
   "metadata": {},
   "source": [
    "## Algorithm evaluation"
   ]
  },
  {
   "cell_type": "code",
   "execution_count": 15,
   "metadata": {},
   "outputs": [
    {
     "data": {
      "application/vnd.jupyter.widget-view+json": {
       "model_id": "2ff46d9c2d2b409ea23885ebdc47b7a2"
      }
     },
     "metadata": {},
     "output_type": "display_data"
    }
   ],
   "source": [
    "population_size_label = widgets.Label(value=\"Population size:\")\n",
    "population_size_slider = widgets.IntSlider(value=100, min=20, max=400, step=20, disabled=False, continuous_update=False, \n",
    "                            orientation='horizontal', readout=True, readout_format='d')\n",
    "number_of_generations_label = widgets.Label(value=\"Number of generations:\")\n",
    "number_of_generations_slider = widgets.IntSlider(value=100, min=20, max=200, step=20, disabled=False, continuous_update=False, \n",
    "                            orientation='horizontal', readout=True, readout_format='d')\n",
    "crossover_probability_label = widgets.Label(value=\"Crossover probability:\")\n",
    "crossover_probability_slider = widgets.FloatSlider(value=0.9, min=0.0, max=1.0, step=0.01, disabled=False, \n",
    "                                    continuous_update=False, orientation='horizontal',readout=True, readout_format='.2f')\n",
    "mutation_probability_label = widgets.Label(value=\"Mutation probability:\")\n",
    "mutation_probability_slider = widgets.FloatSlider(value=0.1, min=0.0, max=1.0, step=0.01, disabled=False, \n",
    "                                    continuous_update=False, orientation='horizontal', readout=True, readout_format='.2f')\n",
    "evolution_button = Button(description='Start evolution')\n",
    "\n",
    "box_layout = Layout(display='flex', flex_flow='column', align_items='center', border='none',width='80%')\n",
    "\n",
    "label_box = widgets.VBox([population_size_label, number_of_generations_label, crossover_probability_label,\n",
    "                         mutation_probability_label])\n",
    "slider_box = widgets.VBox([population_size_slider, number_of_generations_slider, crossover_probability_slider, \n",
    "                          mutation_probability_slider])\n",
    "label_slider_box = widgets.HBox([label_box, slider_box])\n",
    "\n",
    "main_figure = None\n",
    "objective_space_subfigure = None\n",
    "hypervolume_subfigure = None\n",
    "\n",
    "def on_button_clicked(b):\n",
    "    global main_figure\n",
    "    global objective_space_subfigure\n",
    "    global hypervolume_subfigure\n",
    "    if main_figure is None:\n",
    "        main_figure = plt.figure(figsize=(10,5))\n",
    "        objective_space_subfigure = main_figure.add_subplot(121)\n",
    "        hypervolume_subfigure = main_figure.add_subplot(122)\n",
    "        plt.ion()\n",
    "        main_figure.show()\n",
    "        main_figure.canvas.draw() \n",
    "    evolution_button.disabled = True\n",
    "    evolution_button.description = \"Evolution in progress...\"\n",
    "    print(\"Population size: \"+str(population_size_slider.value))\n",
    "    print(\"Number of generations: \"+str(number_of_generations_slider.value))\n",
    "    print(\"Crossover probability: \"+str(crossover_probability_slider.value))\n",
    "    print(\"Mutation probability: \"+str(mutation_probability_slider.value))\n",
    "    hypervolume_value = optimize(population_size_slider.value, number_of_generations_slider.value, \n",
    "                                 crossover_probability_slider.value, mutation_probability_slider.value)\n",
    "    print(\"Final hypervolume: %f\" % hypervolume_value)\n",
    "    print(\"****************************************\")\n",
    "    evolution_button.description = \"Start evolution\"\n",
    "    evolution_button.disabled = False\n",
    "\n",
    "evolution_button.on_click(on_button_clicked)\n",
    "\n",
    "top_label = widgets.Label(value=\"Optimization parameters\", layout=Layout(width='80%'))\n",
    "\n",
    "box_all = Box(children=[top_label, label_slider_box, evolution_button], layout=box_layout)\n",
    "box_all"
   ]
  },
  {
   "cell_type": "code",
   "execution_count": null,
   "metadata": {
    "collapsed": true
   },
   "outputs": [],
   "source": []
  }
 ],
 "metadata": {
  "kernelspec": {
   "display_name": "Python 3",
   "language": "python",
   "name": "python3"
  },
  "language_info": {
   "codemirror_mode": {
    "name": "ipython",
    "version": 3
   },
   "file_extension": ".py",
   "mimetype": "text/x-python",
   "name": "python",
   "nbconvert_exporter": "python",
   "pygments_lexer": "ipython3",
   "version": "3.6.1"
  }
 },
 "nbformat": 4,
 "nbformat_minor": 2
}
